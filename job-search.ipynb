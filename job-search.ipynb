{
 "cells": [
  {
   "attachments": {},
   "cell_type": "markdown",
   "metadata": {},
   "source": [
    "**Introduction:**\n",
    "\n",
    "Job searching can be difficult, especially when knowing when to start.\n",
    "For biochemistry, a good resource for finding companies in your area is\n",
    "biopharmguy.com. Additionally, indeed contains a large corpus of recent\n",
    "job postings, which can be useful for getting a feel for what type of\n",
    "skills are common to each respective job title and/or company. The\n",
    "following code is meant to map companies compiled in a csv file by job,\n",
    "which are mapped using geocoding.\n",
    "\n",
    "The demo.py file contains the classes and methods used to create the\n",
    "maps and graphs in the data/ directory. Examples are already included,\n",
    "but parameters such as state, job title, and keywords that correspond to\n",
    "your own skill set are included.\n",
    "\n",
    "**Installing:**\n",
    "\n",
    "Install the following dependencies for geocoding, NLP and webscraping in\n",
    "the following code.\n",
    "\n",
    "**Demo:**\n",
    "\n",
    "The following example uses the Biopharmguy.com scraper class to build a\n",
    "csv or html file containing company information and string location. The\n",
    "csv file can be extended for geocoding by converting string addresses to\n",
    "coordinates. Perhaps using google geocoding may remove the need to\n",
    "convert from string addresses. saving scraped data as csv file &\n",
    "printing scraping contents as html:\n",
    "\n",
    "Add coordinate locations by replacing string addresses with coordinates\n",
    "for geocoding. Enter the company name to add coordinates from google\n",
    "maps which can easily be copied from google maps by right-clicking.\n",
    "Print locations using folium. Pressing each circle will display company\n",
    "name.\n",
    "\n",
    "*Output for geocoding*\n",
    "\n",
    "<img src=\"images/Picture1.png\" style=\"width:4.7561in;height:3.5in\" alt=\"Diagram, map Description automatically generated\" />\n"
   ]
  },
  {
   "cell_type": "code",
   "execution_count": null,
   "metadata": {},
   "outputs": [],
   "source": [
    "from demo import biopharm_scraper\n",
    "\n",
    "biopharm_scraper.store_csv('data/companies.csv')\n",
    "biopharm_scraper.display_html('templates/companies.html')"
   ]
  },
  {
   "cell_type": "markdown",
   "metadata": {},
   "source": [
    "\n",
    "The following example uses Indeed.com to scrape job postings, which can\n",
    "be used for measuring the frequencies of skills and keywords. Graphs can\n",
    "be saved as images.\n",
    "\n",
    "*Output for set of skills as x-axis using 'lab assistant' as job title*"
   ]
  },
  {
   "cell_type": "code",
   "execution_count": null,
   "metadata": {},
   "outputs": [],
   "source": [
    "from demo import scrape_indeed\n",
    "\n",
    "kws=['PCR','electrophoresis']\n",
    "job_title= 'lab assistant'\n",
    "scrape_indeed('data/job_list.csv', kws)"
   ]
  }
 ],
 "metadata": {
  "kernelspec": {
   "display_name": "Python 3",
   "language": "python",
   "name": "python3"
  },
  "language_info": {
   "codemirror_mode": {
    "name": "ipython",
    "version": 3
   },
   "file_extension": ".py",
   "mimetype": "text/x-python",
   "name": "python",
   "nbconvert_exporter": "python",
   "pygments_lexer": "ipython3",
   "version": "3.9.1"
  }
 },
 "nbformat": 4,
 "nbformat_minor": 5
}
